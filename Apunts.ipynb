{
  "nbformat": 4,
  "nbformat_minor": 0,
  "metadata": {
    "colab": {
      "provenance": [],
      "authorship_tag": "ABX9TyO2+1cknMVX6YQ7LhBPLTNs",
      "include_colab_link": true
    },
    "kernelspec": {
      "name": "python3",
      "display_name": "Python 3"
    },
    "language_info": {
      "name": "python"
    }
  },
  "cells": [
    {
      "cell_type": "markdown",
      "metadata": {
        "id": "view-in-github",
        "colab_type": "text"
      },
      "source": [
        "<a href=\"https://colab.research.google.com/github/UriVallejoFernandez/Programacion/blob/main/Apunts.ipynb\" target=\"_parent\"><img src=\"https://colab.research.google.com/assets/colab-badge.svg\" alt=\"Open In Colab\"/></a>"
      ]
    },
    {
      "cell_type": "code",
      "execution_count": null,
      "metadata": {
        "colab": {
          "base_uri": "https://localhost:8080/"
        },
        "id": "4yut7HqfW4hL",
        "outputId": "3136f3a0-5056-4362-ed48-d1693cc3379d"
      },
      "outputs": [
        {
          "output_type": "stream",
          "name": "stdout",
          "text": [
            "Hola mundo soy Oriol\n",
            "Holaa javi\n",
            "Repaso de python\n",
            "Repaso de python {'Oriol Vallejo'} {'169.5'} {'2024'}\n",
            "Repaso de python-Oriol Vallejo-169.5-2024\n",
            "¿Cual es tu página web?: asoikjdjnas\n",
            "El sitio web del usuario es: asoikjdjnas\n",
            "¿Cual es tu altura? 180\n",
            "Eres una persona alta!!\n",
            "¿Cual es tu altura? 120\n",
            "Eres BAJITO!!\n",
            "¿Cual es tu altura? 130\n",
            "Eres BAJITO!!\n",
            "¿Cual es tu altura? 180\n",
            "Eres una persona alta!!\n"
          ]
        }
      ],
      "source": [
        "print(\"Hola mundo soy Oriol\")\n",
        "print(\"Holaa javi\")\n",
        "\n",
        "# Soy un comentario\n",
        "\n",
        "\"\"\"\"\n",
        "Texto que no se va interpretar\n",
        "\"\"\"\n",
        "\n",
        "#Variables:\n",
        "texto = \"Repaso de python\"\n",
        "nombre = \"Oriol Vallejo\"\n",
        "altura =  \"169.5\"\n",
        "year = 2024\n",
        "print(texto)\n",
        "\n",
        "print(f\"{texto}\" , {nombre} , {altura} , {str(year)})\n",
        "print (texto + \"-\" +  nombre + \"-\" + altura + \"-\" +  str(year))\n",
        "\n",
        "\n",
        "#Entrada\n",
        "sitioweb = input(\"¿Cual es tu página web?: \")\n",
        "print(\"El sitio web del usuario es: \" + sitioweb)\n",
        "\n",
        "#Condiciones\n",
        "altura = int(input(\"¿Cual es tu altura? \"))\n",
        "\n",
        "if altura >=180:\n",
        "    print(\"Eres una persona alta!!\")\n",
        "else:\n",
        "    print(\"Eres BAJITO!!\")\n",
        "\n",
        "#Funciones\n",
        "\n",
        "def mostrarAltura():\n",
        "    altura = int(input(\"¿Cual es tu altura? \"))\n",
        "\n",
        "    if altura >=180:\n",
        "        print(\"Eres una persona alta!!\")\n",
        "    else:\n",
        "        print(\"Eres BAJITO!!\")\n",
        "\n",
        "mostrarAltura()\n",
        "mostrarAltura()\n",
        "mostrarAltura()"
      ]
    },
    {
      "cell_type": "code",
      "source": [
        "#Funciones te pregunta 3 veces que altura tienes todas diferentes\n",
        "\n",
        "def mostrarAltura():\n",
        "    altura = int(input(\"¿Cual es tu altura? \"))\n",
        "\n",
        "    if altura >=180:\n",
        "        print(\"Eres una persona alta!!\")\n",
        "    else:\n",
        "        print(\"Eres BAJITO!!\")\n",
        "\n",
        "mostrarAltura()\n",
        "mostrarAltura()\n",
        "mostrarAltura()\n",
        "\n",
        "#Para que solo sea un valor pero te lo repite las veces que pongas la funcion\n",
        "\n",
        "var_altura = int(input(\"¿Cual es tu altura? \"))\n",
        "\n",
        "def mostrarAltura(altura):\n",
        "\n",
        "    if altura >=180:\n",
        "        print(\"Eres una persona alta!!\")\n",
        "    else:\n",
        "        print(\"Eres BAJITO!!\")\n",
        "\n",
        "mostrarAltura(var_altura)\n",
        "mostrarAltura(var_altura)\n",
        "mostrarAltura(var_altura)\n",
        "\n",
        "#Para sacar informacion de esta funcion usando return\n",
        "\n",
        "var_altura = int(input(\"¿Cual es tu altura? \"))\n",
        "\n",
        "def mostrarAltura(altura):\n",
        "    resultado = \"\"\n",
        "\n",
        "    if altura >=180:\n",
        "        resultado = \"Eres una persona alta!!\"\n",
        "    else:\n",
        "        resultado = \"Eres BAJITO!!\"\n",
        "\n",
        "    return resultado\n",
        "\n",
        "print(mostrarAltura(var_altura))\n",
        "\n"
      ],
      "metadata": {
        "colab": {
          "base_uri": "https://localhost:8080/"
        },
        "id": "KoTf5oXiXAe6",
        "outputId": "1f5ff234-19a3-4c20-c3c8-3b65a459a9d6"
      },
      "execution_count": null,
      "outputs": [
        {
          "output_type": "stream",
          "name": "stdout",
          "text": [
            "¿Cual es tu altura? 180\n",
            "Eres una persona alta!!\n",
            "¿Cual es tu altura? 120\n",
            "Eres BAJITO!!\n",
            "¿Cual es tu altura? 30\n",
            "Eres BAJITO!!\n",
            "¿Cual es tu altura? 180\n",
            "Eres una persona alta!!\n",
            "Eres una persona alta!!\n",
            "Eres una persona alta!!\n",
            "¿Cual es tu altura? 200\n",
            "Eres una persona alta!!\n"
          ]
        }
      ]
    },
    {
      "cell_type": "code",
      "source": [
        "#Listas\n",
        "\n",
        "personas = [\"Victor\", \"Oriol\", \"pepe\"]\n",
        "print(personas[0])\n",
        "print(personas[1])\n",
        "print(personas[2])\n",
        "\n",
        "\n",
        "for persona in personas:\n",
        "    print(\"-\" + persona)"
      ],
      "metadata": {
        "id": "Az_gwvTKXWy6",
        "colab": {
          "base_uri": "https://localhost:8080/"
        },
        "outputId": "d8423d40-bc8e-4618-8c22-ca27c348c313"
      },
      "execution_count": null,
      "outputs": [
        {
          "output_type": "stream",
          "name": "stdout",
          "text": [
            "Victor\n",
            "Oriol\n",
            "pepe\n",
            "-Victor\n",
            "-Oriol\n",
            "-pepe\n"
          ]
        }
      ]
    },
    {
      "cell_type": "markdown",
      "source": [
        "Exercicis"
      ],
      "metadata": {
        "id": "V6-lNpGtXXcY"
      }
    },
    {
      "cell_type": "markdown",
      "source": [
        "1"
      ],
      "metadata": {
        "id": "ExluF9ylXbz0"
      }
    },
    {
      "cell_type": "code",
      "source": [
        "numero = int(input(\"Introduce un número: \"))\n",
        "\n",
        "# Determinar si el número es par o impar\n",
        "if numero % 2 == 0:\n",
        "    print(f\"El número {numero} es par.\")\n",
        "else:\n",
        "    print(f\"El número {numero} es impar.\")\n",
        "\n",
        "\n",
        "\"\"\"\"\n",
        "#Explicación del código:\n",
        "    1. numero = int(input(\"Introduce un número: \")): Esta línea solicita al usuario que introduzca un número y lo convierte a un entero.\n",
        "    2.if numero % 2 == 0:: Esta condición verifica si el número es divisible por 2 sin dejar residuo.\n",
        "    3. print(f\"El número {numero} es par.\"): Si la condición es verdadera, imprime que el número es par.\n",
        "    4.else:: Si la condición no es verdadera, ejecuta el bloque de código siguiente.\n",
        "    5.print(f\"El número {numero} es impar.\"): Imprime que el número es impar.\n",
        "\"\"\""
      ],
      "metadata": {
        "id": "t2LpTGBKXavX"
      },
      "execution_count": null,
      "outputs": []
    },
    {
      "cell_type": "markdown",
      "source": [
        "2"
      ],
      "metadata": {
        "id": "8_jU9OjaXeGd"
      }
    },
    {
      "cell_type": "code",
      "source": [
        "import random\n",
        "\n",
        "# Generar un número aleatorio entre 1 y 100\n",
        "numero_secreto = random.randint(1, 100)\n",
        "\n",
        "# Inicializar la variable para almacenar la suposición del usuario\n",
        "adivinanza = None\n",
        "\n",
        "print(\"¡Bienvenido al juego de Adivina el Número!\")\n",
        "print(\"Estoy pensando en un número entre 1 y 100.\")\n",
        "\n",
        "# Bucle para permitir múltiples intentos\n",
        "while adivinanza != numero_secreto:\n",
        "    # Solicitar al usuario que introduzca su suposición\n",
        "    adivinanza = int(input(\"Introduce tu suposición: \"))\n",
        "\n",
        "    # Proporcionar pistas al usuario\n",
        "    if adivinanza < numero_secreto:\n",
        "        print(\"Demasiado bajo. Intenta de nuevo.\")\n",
        "    elif adivinanza > numero_secreto:\n",
        "        print(\"Demasiado alto. Intenta de nuevo.\")\n",
        "    else:\n",
        "        print(f\"¡Felicidades! Has adivinado el número {numero_secreto}.\")\n",
        "\n",
        "\n",
        "\"\"\"\n",
        "#Explicacion del ejercicio\n",
        "    1.import random: Importa la biblioteca random para generar números aleatorios.\n",
        "    2.numero_secreto = random.randint(1, 100): Genera un número aleatorio entre 1 y 100.\n",
        "    3.adivinanza = None: Inicializa la variable adivinanza para almacenar la suposición del usuario.\n",
        "    4.while adivinanza != numero_secreto: Inicia un bucle que continúa hasta que el usuario adivine el número correcto.\n",
        "    5.adivinanza = int(input(\"Introduce tu suposición: \")): Solicita al usuario que introduzca su suposición y la convierte a un entero.\n",
        "    6.if adivinanza < numero_secreto: Proporciona una pista si la suposición es demasiado baja.\n",
        "    7.elif adivinanza > numero_secreto: Proporciona una pista si la suposición es demasiado alta.\n",
        "    8.else: print(f\"¡Felicidades! Has adivinado el número {numero_secreto}.\"): Felicita al usuario cuando adivina el número correcto.\n",
        "\"\"\""
      ],
      "metadata": {
        "id": "IIhBEG_yXcco"
      },
      "execution_count": null,
      "outputs": []
    }
  ]
}