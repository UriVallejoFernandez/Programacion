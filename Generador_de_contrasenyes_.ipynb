{
  "nbformat": 4,
  "nbformat_minor": 0,
  "metadata": {
    "colab": {
      "provenance": [],
      "authorship_tag": "ABX9TyPEP7nVVqbAwSwbT8dyvEID",
      "include_colab_link": true
    },
    "kernelspec": {
      "name": "python3",
      "display_name": "Python 3"
    },
    "language_info": {
      "name": "python"
    }
  },
  "cells": [
    {
      "cell_type": "markdown",
      "metadata": {
        "id": "view-in-github",
        "colab_type": "text"
      },
      "source": [
        "<a href=\"https://colab.research.google.com/github/UriVallejoFernandez/Programacion/blob/main/Generador_de_contrasenyes_.ipynb\" target=\"_parent\"><img src=\"https://colab.research.google.com/assets/colab-badge.svg\" alt=\"Open In Colab\"/></a>"
      ]
    },
    {
      "cell_type": "code",
      "execution_count": null,
      "metadata": {
        "colab": {
          "base_uri": "https://localhost:8080/"
        },
        "id": "Y6j7rI_Dqwcf",
        "outputId": "bd4350f2-b55d-4bc3-e8e4-6c2bd1faae83"
      },
      "outputs": [
        {
          "output_type": "stream",
          "name": "stdout",
          "text": [
            "Contraseña:  NWUzwRxd4fs;\n"
          ]
        }
      ],
      "source": [
        "\"\"\"\n",
        "sample () es una función incorporada del módulo aleatorio en Python que devuelve\n",
        "una lista de longitud particular de elementos elegidos de una secuencia, es decir, una lista, tupla, cadena o conjunto.\n",
        "\"\"\"\n",
        "\n",
        "\n",
        "# Importamos el método sample de random.\n",
        "from random import sample\n",
        "\n",
        "# Declaramos la función con un argumento (longitud de la contraseña)\n",
        "def password_generator(longitud):\n",
        "\n",
        "    # Definimos los caracteres y simbolos\n",
        "\n",
        "    minusculas = \"abcdefghijklmnopqrstuvwxyz\"\n",
        "\n",
        "    # HACK: upper() transforma las letras de una cadena en mayusculas\n",
        "    mayusculas = minusculas.upper()\n",
        "\n",
        "    numeros = \"0123456789\"\n",
        "    simbolos = \"{}[]()*;/,_-\"\n",
        "\n",
        "    # Definimos la secuencia\n",
        "    secuencia = minusculas + mayusculas + numeros + simbolos\n",
        "\n",
        "    # Llamamos la función sample() utilizando la secuencia, y la longitud\n",
        "    password_union = sample(secuencia, longitud)\n",
        "\n",
        "    # Con join insertamos los elementos de una lista en una cadena\n",
        "    password_result = \"\".join(password_union)\n",
        "\n",
        "    # Retornamos la variables \"password_result\"\n",
        "    return password_result\n",
        "\n",
        "# Llamos a la función \"password_generatos\" y le pasamos el valor \"12\"\n",
        "password = password_generator(12)\n",
        "\n",
        "# Imprimimos el resultado\n",
        "print(\"Contraseña: \", password)\n",
        "\n",
        "\n",
        "\"\"\"No sabria fer-ho\"\"\""
      ]
    },
    {
      "cell_type": "code",
      "source": [
        "import random\n",
        "import string\n",
        "\n",
        "def generar_contraseña(longitud):\n",
        "    if longitud < 8:\n",
        "        raise ValueError(\"La longitud mínima debe ser de 8 caracteres\")\n",
        "\n",
        "    # Categorías de caracteres\n",
        "    mayusculas = string.ascii_uppercase\n",
        "    minusculas = string.ascii_lowercase\n",
        "    digitos = string.digits\n",
        "    simbolos = string.punctuation\n",
        "\n",
        "    # Elegir al menos un carácter de cada categoría\n",
        "    contraseña = [\n",
        "        random.choice(mayusculas),\n",
        "        random.choice(minusculas),\n",
        "        random.choice(digitos),\n",
        "        random.choice(simbolos)\n",
        "    ]\n",
        "\n",
        "    # Llenar el resto de la contraseña con caracteres aleatorios de todas las categorías\n",
        "    todos_caracteres = mayusculas + minusculas + digitos + simbolos\n",
        "    while len(contraseña) < longitud:\n",
        "        siguiente_caracter = random.choice(todos_caracteres)\n",
        "        if len(contraseña) == 0 or siguiente_caracter != contraseña[-1]:\n",
        "            contraseña.append(siguiente_caracter)\n",
        "\n",
        "    # Mezclar los caracteres para que el orden sea aleatorio\n",
        "    random.shuffle(contraseña)\n",
        "\n",
        "    return ''.join(contraseña)\n",
        "\n",
        "# Ejemplo de uso:\n",
        "longitud_contraseña = 12\n",
        "contraseña = generar_contraseña(longitud_contraseña)\n",
        "print(\"Contraseña generada:\", contraseña)\n"
      ],
      "metadata": {
        "colab": {
          "base_uri": "https://localhost:8080/"
        },
        "id": "55rOQaH_uASx",
        "outputId": "9b6f4e01-0612-469d-e550-29e0e0671cfb"
      },
      "execution_count": null,
      "outputs": [
        {
          "output_type": "stream",
          "name": "stdout",
          "text": [
            "Contraseña generada: Mz5([G\\^$FVg\n"
          ]
        }
      ]
    },
    {
      "cell_type": "code",
      "source": [
        "import random\n",
        "import string\n",
        "\n",
        "def generar_contraseña(longitud):\n",
        "    if longitud < 8 or longitud > 20:\n",
        "        raise ValueError(\"La longitud debe estar entre 8 y 20 caracteres\")\n",
        "\n",
        "    # Categorías de caracteres\n",
        "    mayusculas = string.ascii_uppercase\n",
        "    minusculas = string.ascii_lowercase\n",
        "    digitos = string.digits\n",
        "    simbolos = string.punctuation\n",
        "\n",
        "    # Crear un conjunto con todos los caracteres disponibles\n",
        "    todos_caracteres = list(set(mayusculas + minusculas + digitos + simbolos))\n",
        "\n",
        "    # Asegurarse de que haya al menos uno de cada tipo en la contraseña\n",
        "    contraseña = [\n",
        "        random.choice(mayusculas),\n",
        "        random.choice(minusculas),\n",
        "        random.choice(digitos),\n",
        "        random.choice(simbolos)\n",
        "    ]\n",
        "\n",
        "    # Evitar caracteres repetidos añadiendo al azar caracteres sin repetición\n",
        "    while len(contraseña) < longitud:\n",
        "        siguiente_caracter = random.choice(todos_caracteres)\n",
        "        if siguiente_caracter not in contraseña:\n",
        "            contraseña.append(siguiente_caracter)\n",
        "\n",
        "    # Mezclar los caracteres para que el orden sea aleatorio\n",
        "    random.shuffle(contraseña)\n",
        "\n",
        "    return ''.join(contraseña)\n",
        "\n",
        "# Ejemplo de uso:\n",
        "longitud_contraseña = 12\n",
        "contraseña = generar_contraseña(longitud_contraseña)\n",
        "print(\"Contraseña generada és:\", contraseña)\n"
      ],
      "metadata": {
        "colab": {
          "base_uri": "https://localhost:8080/"
        },
        "id": "7Hb9JNP8vm_Z",
        "outputId": "96e52fcc-148f-4f0e-f021-40f2e893a22b"
      },
      "execution_count": null,
      "outputs": [
        {
          "output_type": "stream",
          "name": "stdout",
          "text": [
            "Contraseña generada: F_4t)WZ~NIDE\n"
          ]
        }
      ]
    },
    {
      "cell_type": "markdown",
      "source": [
        "Sempre la mateixa contrasenya sense utilitzar llibreries"
      ],
      "metadata": {
        "id": "N_N4u6gt3AX9"
      }
    },
    {
      "cell_type": "code",
      "source": [
        "def generate_contrasenya():\n",
        "# Definim una contrasenya que compleix amb les condicions\n",
        "    contrasenya = \"Aa1@XYZ\"\n",
        "\n",
        "# Condicions:\n",
        "# 1. Almenys una lletra majúscula (A, X, I, Z)\n",
        "# 2. Almenys una lletra minúscula (a)\n",
        "# 3. Almenys un número (1)\n",
        "# 4. Almenys un caràcter especial (@)\n",
        "# 5. Longitud mínima de 8 caràcters\n",
        "# 6. No conté espais\n",
        "# 7. La contrasenya sempre serà la mateixa\n",
        "    return contrasenya\n",
        "\n",
        "contrasenya = generate_contrasenya()\n",
        "print(\"Contrasenya generada:\", contrasenya)"
      ],
      "metadata": {
        "id": "GlAf6Be2yb7v",
        "colab": {
          "base_uri": "https://localhost:8080/"
        },
        "outputId": "cb842a02-044b-4f89-d986-72dfb3979acf"
      },
      "execution_count": null,
      "outputs": [
        {
          "output_type": "stream",
          "name": "stdout",
          "text": [
            "Contrasenya generada: Aa1@XYZ\n"
          ]
        }
      ]
    },
    {
      "cell_type": "code",
      "source": [
        "def generate_contrasenya():\n",
        "    # Definim una contrasenya que compleix amb les condicions\n",
        "    contrasenya1 = \"Aa1@XYZ\"\n",
        "    contrasenya2 = \"Bb2@XYZ\"\n",
        "    contrasenya3 = \"Cc3@XYZ\"\n",
        "    return contrasenya1, contrasenya2, contrasenya3\n",
        "\n",
        "# Cridem la funció i desem el resultat\n",
        "contrasenya1, contrasenya2, contrasenya3 = generate_contrasenya()\n",
        "\n",
        "# Imprimim les contrasenyes generades\n",
        "print(\"Contrasenyes generades:\", contrasenya1, contrasenya2, contrasenya3)"
      ],
      "metadata": {
        "colab": {
          "base_uri": "https://localhost:8080/"
        },
        "id": "Ci26RM1_yIOM",
        "outputId": "26ed58af-aaa6-452f-9dde-efdbe94848bd"
      },
      "execution_count": null,
      "outputs": [
        {
          "output_type": "stream",
          "name": "stdout",
          "text": [
            "Contrasenyes generades: Aa1@XYZ Bb2@XYZ Cc3@XYZ\n"
          ]
        }
      ]
    }
  ]
}