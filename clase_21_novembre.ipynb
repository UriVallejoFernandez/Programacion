{
  "nbformat": 4,
  "nbformat_minor": 0,
  "metadata": {
    "colab": {
      "provenance": [],
      "authorship_tag": "ABX9TyOrTtFpxyC7o98SPQP0z9at",
      "include_colab_link": true
    },
    "kernelspec": {
      "name": "python3",
      "display_name": "Python 3"
    },
    "language_info": {
      "name": "python"
    }
  },
  "cells": [
    {
      "cell_type": "markdown",
      "metadata": {
        "id": "view-in-github",
        "colab_type": "text"
      },
      "source": [
        "<a href=\"https://colab.research.google.com/github/UriVallejoFernandez/Programacion/blob/main/clase_21_novembre.ipynb\" target=\"_parent\"><img src=\"https://colab.research.google.com/assets/colab-badge.svg\" alt=\"Open In Colab\"/></a>"
      ]
    },
    {
      "cell_type": "markdown",
      "source": [
        "Fer una variable que sigui python, fer un bucle for em que cridem p y t h o n, i quant arribi a la h que deixi de printar(hem d'utilitzar **break**)"
      ],
      "metadata": {
        "id": "NiyFDZiXu2R8"
      }
    },
    {
      "cell_type": "code",
      "source": [
        "paraula = \"python\"\n",
        "\n",
        "for lletra in paraula:\n",
        "    if lletra == \"o\":\n",
        "        break\n",
        "    print(lletra)"
      ],
      "metadata": {
        "id": "ezBWDVGGvWm7"
      },
      "execution_count": 8,
      "outputs": []
    },
    {
      "cell_type": "markdown",
      "source": [
        "Fer el mateix però que no fiqui la h (Continue)"
      ],
      "metadata": {
        "id": "1iO5ItouuxUt"
      }
    },
    {
      "cell_type": "code",
      "source": [
        "paraula = \"python\"\n",
        "\n",
        "for lletra in paraula:\n",
        "    if lletra == \"h\":\n",
        "        continue\n",
        "    print(lletra)\n"
      ],
      "metadata": {
        "colab": {
          "base_uri": "https://localhost:8080/"
        },
        "id": "EW1L9GfSzANg",
        "outputId": "50e45e97-a64c-44b3-fa1c-05975b5ffcfe"
      },
      "execution_count": 9,
      "outputs": [
        {
          "output_type": "stream",
          "name": "stdout",
          "text": [
            "p\n",
            "y\n",
            "t\n",
            "o\n",
            "n\n"
          ]
        }
      ]
    },
    {
      "cell_type": "markdown",
      "source": [
        "imprimir las lletres supercalifragilisticoespialidoso sense las a\n",
        "\n",
        "\n"
      ],
      "metadata": {
        "id": "nXlvGTlavzDn"
      }
    },
    {
      "cell_type": "code",
      "source": [
        "paraula = \"supercalifragilisticoespialidoso\"\n",
        "\n",
        "for lletra in paraula:\n",
        "    if lletra == \"a\":\n",
        "        continue\n",
        "    print(lletra, end=\"\")\n",
        "\n",
        "\n",
        "print()\n"
      ],
      "metadata": {
        "colab": {
          "base_uri": "https://localhost:8080/"
        },
        "id": "XHK2gpQUzSVc",
        "outputId": "c25144a1-730c-4403-c950-820b5f52d4a0"
      },
      "execution_count": 10,
      "outputs": [
        {
          "output_type": "stream",
          "name": "stdout",
          "text": [
            "superclifrgilisticoespilidoso\n"
          ]
        }
      ]
    },
    {
      "cell_type": "markdown",
      "source": [
        "imprimir mitjançant un bucle la llista de les siguents ciutats, barcelona murcia valencia toledo bilbao salamanca teruel burgos tarragona, sevilla, valladolid printar quant sigui diferent de 6"
      ],
      "metadata": {
        "id": "I7zYLzFfvzaz"
      }
    },
    {
      "cell_type": "code",
      "execution_count": 13,
      "metadata": {
        "colab": {
          "base_uri": "https://localhost:8080/"
        },
        "id": "NwSfyPTHuJG2",
        "outputId": "830e7b29-55da-4f5c-bd81-41f8eed4050e"
      },
      "outputs": [
        {
          "output_type": "stream",
          "name": "stdout",
          "text": [
            "barcelona\n",
            "valencia\n",
            "salamanca\n",
            "tarragona\n",
            "sevilla\n",
            "valladolid\n"
          ]
        }
      ],
      "source": [
        "ciutats = [\"barcelona\",\"murcia\",\"valencia\",\"toledo\",\"bilbao\",\"salamanca\",\"teruel\",\"burgos\",\"tarragona\",\"sevilla\",\"valladolid\"]\n",
        "\n",
        "for ciutat in ciutats:\n",
        "  if len(ciutat) == 6 :\n",
        "    continue\n",
        "  print(ciutat)"
      ]
    }
  ]
}