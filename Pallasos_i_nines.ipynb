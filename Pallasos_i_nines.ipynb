{
  "nbformat": 4,
  "nbformat_minor": 0,
  "metadata": {
    "colab": {
      "provenance": [],
      "authorship_tag": "ABX9TyMAsz28nLujcxwxCFH99R+T",
      "include_colab_link": true
    },
    "kernelspec": {
      "name": "python3",
      "display_name": "Python 3"
    },
    "language_info": {
      "name": "python"
    }
  },
  "cells": [
    {
      "cell_type": "markdown",
      "metadata": {
        "id": "view-in-github",
        "colab_type": "text"
      },
      "source": [
        "<a href=\"https://colab.research.google.com/github/UriVallejoFernandez/Programacion/blob/main/Pallasos_i_nines.ipynb\" target=\"_parent\"><img src=\"https://colab.research.google.com/assets/colab-badge.svg\" alt=\"Open In Colab\"/></a>"
      ]
    },
    {
      "cell_type": "markdown",
      "source": [
        "Una botiga de joguines té molt èxit en dos dels seus productes: nines i pallasso. Acostuma a fer venda per correu i la empresa de logística els cobra pels peus de cada joguina, així doncs en de calcular el pes dels pallasso i nines que sortiren a cada paquet a demanda cada pallasso pesa 112 grams i cada nina pesa 75 grams. Fes un programa que llegeixi el número de pallasso i nines venudes en la darrera comanda i que calculen el pes total del paquet."
      ],
      "metadata": {
        "id": "889ql_rirtWa"
      }
    },
    {
      "cell_type": "code",
      "source": [
        "pallassos = int(input(\"Posa els nombres de pallassos venuts:\"))\n",
        "nines = int(input(\"Posa els nombres de nines venuts:\"))\n",
        "\n",
        "print(\"Pes total:\")\n",
        "print(pallassos * 112 + nines * 75)\n"
      ],
      "metadata": {
        "colab": {
          "base_uri": "https://localhost:8080/"
        },
        "id": "bEceYiGWtSzt",
        "outputId": "06e02b5a-60a6-4917-b523-503681f26fcb"
      },
      "execution_count": null,
      "outputs": [
        {
          "output_type": "stream",
          "name": "stdout",
          "text": [
            "Posa els nombres de pallassos venuts:77\n",
            "Posa els nombres de nines venuts:69\n",
            "Pes total:\n",
            "13799\n"
          ]
        }
      ]
    },
    {
      "cell_type": "markdown",
      "source": [
        "Fer un programa que li pregunte a un usuari les hores que traballa i preu per hora, cuant cobra,"
      ],
      "metadata": {
        "id": "TfH5SF6CN7CG"
      }
    },
    {
      "cell_type": "code",
      "source": [
        "Hores = int(input(\"Quantes hores treballes al dia? \"))\n",
        "quant_cobres_per_hora = float(input(\"Quants euros cobres per hora? \" ))\n",
        "calcul1 = Hores * quant_cobres_per_hora\n",
        "print (\"al dia cobra\" , calcul1, \"€\")\n",
        "mes = calcul1 * 30\n",
        "print (\"al mes cobra \", mes, \"€\")\n",
        "anual = mes * 12\n",
        "print (\"anualment cobra\" , anual, \"€\")\n",
        "\n"
      ],
      "metadata": {
        "colab": {
          "base_uri": "https://localhost:8080/"
        },
        "id": "PoeDkwSDOqmp",
        "outputId": "1f2014af-189c-4e28-feb0-1579c40a4525"
      },
      "execution_count": null,
      "outputs": [
        {
          "output_type": "stream",
          "name": "stdout",
          "text": [
            "Quantes hores treballes al dia? 8\n",
            "Quants euros cobres per hora? 13.07\n",
            "al dia cobra 104.56 €\n",
            "al mes cobra  3136.8 €\n",
            "anualment cobra 37641.600000000006 €\n"
          ]
        }
      ]
    }
  ]
}