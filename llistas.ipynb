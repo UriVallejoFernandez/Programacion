{
  "nbformat": 4,
  "nbformat_minor": 0,
  "metadata": {
    "colab": {
      "provenance": [],
      "authorship_tag": "ABX9TyNYVh7z32M8IGNPCvpwoWqL",
      "include_colab_link": true
    },
    "kernelspec": {
      "name": "python3",
      "display_name": "Python 3"
    },
    "language_info": {
      "name": "python"
    }
  },
  "cells": [
    {
      "cell_type": "markdown",
      "metadata": {
        "id": "view-in-github",
        "colab_type": "text"
      },
      "source": [
        "<a href=\"https://colab.research.google.com/github/UriVallejoFernandez/Programacion/blob/main/llistas.ipynb\" target=\"_parent\"><img src=\"https://colab.research.google.com/assets/colab-badge.svg\" alt=\"Open In Colab\"/></a>"
      ]
    },
    {
      "cell_type": "markdown",
      "source": [
        "#Has de fer una llista amb aquests ingredients\n",
        "igredients:\n",
        "pa,\n",
        "llet,\n",
        "peix,\n",
        "nutella,\n",
        "4,\n",
        "15,\n",
        "cervesa"
      ],
      "metadata": {
        "id": "_komhKy6E3Cv"
      }
    },
    {
      "cell_type": "code",
      "execution_count": null,
      "metadata": {
        "colab": {
          "base_uri": "https://localhost:8080/"
        },
        "id": "ycJZID7JEoSh",
        "outputId": "0cdbc015-5871-49c4-c3a5-27176c7889c6"
      },
      "outputs": [
        {
          "output_type": "stream",
          "name": "stdout",
          "text": [
            "pa\n",
            "llet\n",
            "peix\n",
            "nutella\n",
            "4\n",
            "15\n",
            "cervesa\n"
          ]
        }
      ],
      "source": [
        "ingredients = [\"pa\", \"llet\", \"peix\", \"nutella\",4,15,\"cervesa\" ]\n",
        "\n",
        "print(ingredients[0])\n",
        "print(ingredients[1])\n",
        "print(ingredients[2])\n",
        "print(ingredients[3])\n",
        "print(ingredients[4])\n",
        "print(ingredients[5])\n",
        "print(ingredients[6])\n",
        "\n"
      ]
    },
    {
      "cell_type": "markdown",
      "source": [
        "#Altre tipus de llista treient el valor 3\n",
        "\n",
        "\n"
      ],
      "metadata": {
        "id": "UDNH69HuI1sc"
      }
    },
    {
      "cell_type": "code",
      "source": [
        "ingredients = [\"pa\", \"llet\", \"peix\", \"nutella\",4,15,\"cervesa\" ]\n",
        "\n",
        "\n",
        "ingredients.remove(\"peix\")\n",
        "print(ingredients)\n"
      ],
      "metadata": {
        "colab": {
          "base_uri": "https://localhost:8080/"
        },
        "id": "yr7eyquvI3Cr",
        "outputId": "686054ee-adf4-44e6-bbf1-d4e355dc9e13"
      },
      "execution_count": null,
      "outputs": [
        {
          "output_type": "stream",
          "name": "stdout",
          "text": [
            "['pa', 'llet', 'nutella', 4, 15, 'cervesa']\n"
          ]
        }
      ]
    },
    {
      "cell_type": "markdown",
      "source": [
        "#Printar element 5 de la llista\n",
        "\n"
      ],
      "metadata": {
        "id": "OzAb7JVMI8Px"
      }
    },
    {
      "cell_type": "code",
      "source": [
        "ingredients = [\"pa\", \"llet\", \"peix\", \"nutella\",4,15,\"cervesa\" ]\n",
        "\n",
        "\n",
        "print(\"L'ingredient número 5 és\",ingredients[5])\n",
        "print(\"L'ingredient número 5 és\",ingredients.pop(5))"
      ],
      "metadata": {
        "colab": {
          "base_uri": "https://localhost:8080/"
        },
        "id": "i76_Xu-UI9hJ",
        "outputId": "f967d1d8-5f29-440f-a24c-3269020deebe"
      },
      "execution_count": null,
      "outputs": [
        {
          "output_type": "stream",
          "name": "stdout",
          "text": [
            "L'ingredient numero 5 és 15\n",
            "L'ingredient numero 5 és 15\n"
          ]
        }
      ]
    },
    {
      "cell_type": "markdown",
      "source": [
        "# Insertar una paraula nova a la llista"
      ],
      "metadata": {
        "id": "2P6IX1mfJpRu"
      }
    },
    {
      "cell_type": "code",
      "source": [
        "ingredients = [\"pa\", \"llet\", \"peix\", \"nutella\",4,15,\"cervesa\" ]\n",
        "\n",
        "ingredients.insert (7,\"patata\")\n",
        "\n",
        "print(\"La nova llista és\", ingredients)\n",
        "#També es pot utilitzar el .append\n",
        "\n",
        "ingredients = [\"pa\", \"llet\", \"peix\", \"nutella\",4,15,\"cervesa\" ]\n",
        "ingredients.append (\"patata\")\n",
        "print(\"La llista 2 és\",ingredients)\n"
      ],
      "metadata": {
        "colab": {
          "base_uri": "https://localhost:8080/"
        },
        "id": "LBISp2UhJoal",
        "outputId": "80445123-c5ce-4763-e193-a8b798d1e71f"
      },
      "execution_count": null,
      "outputs": [
        {
          "output_type": "stream",
          "name": "stdout",
          "text": [
            "La nova llista és ['pa', 'llet', 'peix', 'nutella', 4, 15, 'cervesa', 'patata']\n",
            "La llista 2 és ['pa', 'llet', 'peix', 'nutella', 4, 15, 'cervesa', 'patata']\n"
          ]
        }
      ]
    },
    {
      "cell_type": "markdown",
      "source": [
        "#Llista de la setmana\n",
        "\n",
        "Crear una llista que es digui setmana que tingui els dias de dilluns a divendres menys el dijous. Llavors afegim disabte i diumenge, despres ficarem el dijous en el seu lloc,un cop tinguem la setmana completa afegim 2 cops el divendres i en una variable emmagatzamen cuants divendres hi ha a la llista. Després eliminarem els divendres que sobrin, i després farem un text que es vegi el nombre de divendres que hi havia abans de eliminar-los"
      ],
      "metadata": {
        "id": "ncTNOQaoL0Ce"
      }
    },
    {
      "cell_type": "code",
      "source": [
        "setmana = [\"dilluns\", \"dimarts\",\"dimecres\",\"divendres\"]\n",
        "#Afegim el disabte i diumenge\n",
        "setmana.insert(5,\"disabte\",)\n",
        "setmana.insert(6,\"diumenge\")\n",
        "#Ara afegim el dijous en el seu lloc\n",
        "setmana.insert(3,\"dijous\")\n",
        "#Ara fiquem 2 divendres més\n",
        "setmana.insert(5,\"divendres\")\n",
        "setmana.insert(6,\"divendres\")\n",
        "#Ara contem el numero de divendres\n",
        "setmana.count(\"divendres\")\n",
        "print(setmana)\n",
        "#Ara eliminem els divendres sobrants\n",
        "setmana.remove(\"divendres\")\n",
        "setmana.remove(\"divendres\")\n",
        "#Text amb el nombre de divendres que hi havia abans de eliminar-los\n",
        "print(\"La setmana té \")"
      ],
      "metadata": {
        "colab": {
          "base_uri": "https://localhost:8080/"
        },
        "id": "Frj1PxhhL3w8",
        "outputId": "b10015f7-e047-4564-ec4a-6c7e7168e1e9"
      },
      "execution_count": null,
      "outputs": [
        {
          "output_type": "stream",
          "name": "stdout",
          "text": [
            "['dilluns', 'dimarts', 'dimecres', 'dijous', 'divendres', 'divendres', 'divendres', 'disabte', 'diumenge']\n",
            "La setmana té \n"
          ]
        }
      ]
    }
  ]
}